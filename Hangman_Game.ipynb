{
 "cells": [
  {
   "cell_type": "code",
   "execution_count": 1,
   "metadata": {},
   "outputs": [],
   "source": [
    "import random\n",
    "import sys"
   ]
  },
  {
   "cell_type": "code",
   "execution_count": 2,
   "metadata": {},
   "outputs": [],
   "source": [
    "BOF = '''APPLE,ORANGE,BANANNA,PINEAPPLE,\n",
    "\n",
    "Kiwi, Kaffir Lime, Kumquat ,Lime (Lemon), Longan, Lychee, Loquat,\n",
    "\n",
    "Mango, Mandarin Orange, Mulberry, Melon,\n",
    "\n",
    "Nectarine, Navel Orange, Nashi Pear,\n",
    "\n",
    "Olive, Oranges, Ogeechee Limes, Oval Kumquat,\n",
    "\n",
    "Papaya, Persimmon, Paw Paw, Prickly Pear, Peach, Pomegranate, Pineapple,\n",
    "\n",
    "Quince, Queen Anne Cherry, Quararibea cordata,\n",
    "\n",
    "Rambutan, Raspberries, Rose Hips,\n",
    "\n",
    "Star Fruit, Strawberries, Sugar Baby Watermelon,\n",
    "\n",
    "Tomato, Tangerine, Tamarind, Tart Cherries,\n",
    "\n",
    "Ugli Fruit, Uniq Fruit, Ugni,\n",
    "\n",
    "Vanilla Bean, Velvet Pink Banana, Voavanga,\n",
    "\n",
    "Watermelon, Wolfberry, White Mulberry,\n",
    "\n",
    "Xigua (Chinese Watermelon), Ximenia caffra fruit, Xango Mangosteen Fruit Juice'''\n"
   ]
  },
  {
   "cell_type": "code",
   "execution_count": 3,
   "metadata": {},
   "outputs": [],
   "source": [
    "BOF_WNewLine = BOF.split(',')"
   ]
  },
  {
   "cell_type": "code",
   "execution_count": 4,
   "metadata": {},
   "outputs": [
    {
     "name": "stdout",
     "output_type": "stream",
     "text": [
      "['APPLE', 'ORANGE', 'BANANNA', 'PINEAPPLE', '\\n\\nKiwi', ' Kaffir Lime', ' Kumquat ', 'Lime (Lemon)', ' Longan', ' Lychee', ' Loquat', '\\n\\nMango', ' Mandarin Orange', ' Mulberry', ' Melon', '\\n\\nNectarine', ' Navel Orange', ' Nashi Pear', '\\n\\nOlive', ' Oranges', ' Ogeechee Limes', ' Oval Kumquat', '\\n\\nPapaya', ' Persimmon', ' Paw Paw', ' Prickly Pear', ' Peach', ' Pomegranate', ' Pineapple', '\\n\\nQuince', ' Queen Anne Cherry', ' Quararibea cordata', '\\n\\nRambutan', ' Raspberries', ' Rose Hips', '\\n\\nStar Fruit', ' Strawberries', ' Sugar Baby Watermelon', '\\n\\nTomato', ' Tangerine', ' Tamarind', ' Tart Cherries', '\\n\\nUgli Fruit', ' Uniq Fruit', ' Ugni', '\\n\\nVanilla Bean', ' Velvet Pink Banana', ' Voavanga', '\\n\\nWatermelon', ' Wolfberry', ' White Mulberry', '\\n\\nXigua (Chinese Watermelon)', ' Ximenia caffra fruit', ' Xango Mangosteen Fruit Juice']\n"
     ]
    }
   ],
   "source": [
    "print(BOF_WNewLine)"
   ]
  },
  {
   "cell_type": "code",
   "execution_count": 5,
   "metadata": {},
   "outputs": [
    {
     "name": "stdout",
     "output_type": "stream",
     "text": [
      "APPLE ORANGE BANANNA PINEAPPLE Kiwi Kaffir Lime Kumquat Lime (Lemon) Longan Lychee Loquat Mango Mandarin Orange Mulberry Melon Nectarine Navel Orange Nashi Pear Olive Oranges Ogeechee Limes Oval Kumquat Papaya Persimmon Paw Paw Prickly Pear Peach Pomegranate Pineapple Quince Queen Anne Cherry Quararibea cordata Rambutan Raspberries Rose Hips Star Fruit Strawberries Sugar Baby Watermelon Tomato Tangerine Tamarind Tart Cherries Ugli Fruit Uniq Fruit Ugni Vanilla Bean Velvet Pink Banana Voavanga Watermelon Wolfberry White Mulberry Xigua (Chinese Watermelon) Ximenia caffra fruit Xango Mangosteen Fruit Juice "
     ]
    }
   ],
   "source": [
    "for i in range(len(BOF_WNewLine)):\n",
    "    BOF_WNewLine[i] = BOF_WNewLine[i].strip()\n",
    "    BOF_WNewLine[i] = BOF_WNewLine[i].lstrip()\n",
    "    print(BOF_WNewLine[i], end = ' ')"
   ]
  },
  {
   "cell_type": "code",
   "execution_count": 6,
   "metadata": {},
   "outputs": [
    {
     "name": "stdout",
     "output_type": "stream",
     "text": [
      "['APPLE', 'ORANGE', 'BANANNA', 'PINEAPPLE', 'Kiwi', 'Kaffir Lime', 'Kumquat', 'Lime (Lemon)', 'Longan', 'Lychee', 'Loquat', 'Mango', 'Mandarin Orange', 'Mulberry', 'Melon', 'Nectarine', 'Navel Orange', 'Nashi Pear', 'Olive', 'Oranges', 'Ogeechee Limes', 'Oval Kumquat', 'Papaya', 'Persimmon', 'Paw Paw', 'Prickly Pear', 'Peach', 'Pomegranate', 'Pineapple', 'Quince', 'Queen Anne Cherry', 'Quararibea cordata', 'Rambutan', 'Raspberries', 'Rose Hips', 'Star Fruit', 'Strawberries', 'Sugar Baby Watermelon', 'Tomato', 'Tangerine', 'Tamarind', 'Tart Cherries', 'Ugli Fruit', 'Uniq Fruit', 'Ugni', 'Vanilla Bean', 'Velvet Pink Banana', 'Voavanga', 'Watermelon', 'Wolfberry', 'White Mulberry', 'Xigua (Chinese Watermelon)', 'Ximenia caffra fruit', 'Xango Mangosteen Fruit Juice']\n"
     ]
    }
   ],
   "source": [
    "print(BOF_WNewLine)"
   ]
  },
  {
   "cell_type": "code",
   "execution_count": 7,
   "metadata": {},
   "outputs": [
    {
     "name": "stdout",
     "output_type": "stream",
     "text": [
      "54\n"
     ]
    }
   ],
   "source": [
    "total_words = len(BOF_WNewLine)\n",
    "print(total_words)"
   ]
  },
  {
   "cell_type": "code",
   "execution_count": 20,
   "metadata": {},
   "outputs": [
    {
     "name": "stdout",
     "output_type": "stream",
     "text": [
      "Tamarind\n"
     ]
    }
   ],
   "source": [
    "picked_index_letter = {} ; count = 0\n",
    "value = random.randint(0, total_words-1)\n",
    "picked_word = BOF_WNewLine[value]\n",
    "print(picked_word)\n",
    "while(count!=3):\n",
    "    rand_index = random.randint(0,len(picked_word)-1)\n",
    "    if(rand_index not in picked_index_letter):\n",
    "        picked_index_letter[rand_index] = picked_word[rand_index]\n",
    "        count+=1"
   ]
  },
  {
   "cell_type": "code",
   "execution_count": 21,
   "metadata": {},
   "outputs": [
    {
     "name": "stdout",
     "output_type": "stream",
     "text": [
      "HEYYY! Find the FRUIT name :-> \n",
      "\u001b[1m\n",
      "T _ _ _ r _ _ d "
     ]
    }
   ],
   "source": [
    "guess_fruit = str()\n",
    "print('HEYYY! Find the FRUIT name :-> ')\n",
    "print('\\033[1m')\n",
    "for i in range(0,len(picked_word)):\n",
    "    if(i not in picked_index_letter):\n",
    "        guess_fruit = guess_fruit+'_'\n",
    "        print('_',end = ' ')\n",
    "    else:\n",
    "        print(picked_index_letter[i],end=' ')\n",
    "        guess_fruit = guess_fruit+picked_index_letter[i]"
   ]
  },
  {
   "cell_type": "code",
   "execution_count": 22,
   "metadata": {},
   "outputs": [
    {
     "name": "stdout",
     "output_type": "stream",
     "text": [
      "please enter the letter ->  a\n",
      "Well Done! \n",
      "Ta__r__d\n",
      "please enter the letter ->  m\n",
      "Well Done! \n",
      "Tam_r__d\n",
      "please enter the letter ->  a\n",
      "Well Done! \n",
      "Tamar__d\n",
      "please enter the letter ->  i\n",
      "Well Done! \n",
      "Tamari_d\n",
      "please enter the letter ->  a\n",
      "OOPs! Answer is wrong\n",
      "please enter the letter ->  n\n",
      "Well Done! \n",
      "Tamarind\n",
      "3\n"
     ]
    }
   ],
   "source": [
    "count = 0 ;correct_ans = False\n",
    "chance = len(picked_word)\n",
    "while(chance!=0 and (not correct_ans)):\n",
    "    insert_value = str(input(\"please enter the letter ->  \"))\n",
    "    if(insert_value.isnumeric()):\n",
    "        print(\"Please insert only letter - >  \")\n",
    "        chance+=1\n",
    "    elif(len(insert_value) >1):\n",
    "        print(\"Please insert single letter\")\n",
    "        chance+=1\n",
    "    else:\n",
    "        for l in range(len(guess_fruit)):\n",
    "            if(guess_fruit[l] == '_'):\n",
    "                if(insert_value == picked_word[l]):\n",
    "                    print(\"Well Done! \")\n",
    "                    guess_fruit = guess_fruit[:l] + insert_value + guess_fruit[l+1:]\n",
    "                    print(guess_fruit)\n",
    "                    if('_' not in guess_fruit):\n",
    "                        correct_ans = True\n",
    "                        \n",
    "                        i = -1\n",
    "                        print(chance)\n",
    "                    break\n",
    "                else:\n",
    "                    print(\"OOPs! Answer is wrong\")\n",
    "                    break\n",
    "    chance-=1            \n",
    "                \n",
    "      "
   ]
  },
  {
   "cell_type": "raw",
   "metadata": {},
   "source": []
  }
 ],
 "metadata": {
  "kernelspec": {
   "display_name": "Python 3",
   "language": "python",
   "name": "python3"
  },
  "language_info": {
   "codemirror_mode": {
    "name": "ipython",
    "version": 3
   },
   "file_extension": ".py",
   "mimetype": "text/x-python",
   "name": "python",
   "nbconvert_exporter": "python",
   "pygments_lexer": "ipython3",
   "version": "3.7.3"
  }
 },
 "nbformat": 4,
 "nbformat_minor": 2
}
